{
 "cells": [
  {
   "cell_type": "markdown",
   "metadata": {},
   "source": [
    "# Batch Data Processing 2"
   ]
  },
  {
   "cell_type": "code",
   "execution_count": 1,
   "metadata": {},
   "outputs": [],
   "source": [
    "import csv\n",
    "from urllib.request import urlopen\n",
    "from bs4 import BeautifulSoup\n",
    "import time \n",
    "import requests\n",
    "import re\n",
    "from selenium import webdriver\n",
    "import pandas as pd\n",
    "\n"
   ]
  },
  {
   "cell_type": "code",
   "execution_count": 2,
   "metadata": {},
   "outputs": [
    {
     "name": "stderr",
     "output_type": "stream",
     "text": [
      "C:\\Users\\gaura\\Anaconda3\\lib\\site-packages\\ipykernel_launcher.py:62: FutureWarning: Sorting because non-concatenation axis is not aligned. A future version\n",
      "of pandas will change to not sort by default.\n",
      "\n",
      "To accept the future behavior, pass 'sort=False'.\n",
      "\n",
      "To retain the current behavior and silence the warning, pass 'sort=True'.\n",
      "\n"
     ]
    }
   ],
   "source": [
    "contents = []\n",
    "with open('C:\\\\Users\\\\gaura\\\\Desktop\\\\Project\\\\link.csv','r') as csvf: # Open file in read mode\n",
    "    urls = csv.reader(csvf)\n",
    "    for url in urls:\n",
    "        contents.append(url) # Add each url to list contents\n",
    "appended_data = []\n",
    "for url in contents:  # Parse through each url in the list.\n",
    "    phone = urlopen(url[0]).read()\n",
    "    #print(soup)\n",
    "    soup=BeautifulSoup(phone)\n",
    "    try:\n",
    "        name = soup.find(\"div\",class_=\"aps-tab-container\")\n",
    "        rows= name.find_all(\"div\", id=\"aps-specs\",class_=\"aps-tab-content\")\n",
    "    except AttributeError: # catch the error\n",
    "        continue\n",
    "    #rows = yo.find_all(\"li\")\n",
    "        \n",
    "    file=[]\n",
    "    list_rows = []\n",
    "    for row in rows:\n",
    "        \n",
    "        cell=row.find_all(\"div\",class_=\"aps-attr-value\")\n",
    "        for cel in cell:\n",
    "            cells=cel.find(\"span\",class_=\"aps-1co\")\n",
    "            str_cells = str(cells)\n",
    "            clean = re.compile('<.*?>')\n",
    "            clean2 = cells.text\n",
    "            list_rows.append(clean2)\n",
    "            \n",
    "        c= row.find_all(\"div\",class_=\"aps-group\")\n",
    "        for ul in c:\n",
    "            l= ul.find_all(\"ul\",class_=\"aps-specs-list\")\n",
    "            for li in l:\n",
    "                \n",
    "                cells1 = li.find_all('li')\n",
    "                for lu in cells1:\n",
    "                    w = lu.find_all('strong', class_='aps-term')\n",
    "                    str_cells1 = str(w)\n",
    "                    clean1 = re.compile('<.*?>')\n",
    "                    clean21 = (re.sub(clean, '',str_cells1))\n",
    "    \n",
    "                    file.append(clean21)\n",
    "    \n",
    "    df2=pd.DataFrame(file)\n",
    "    df2=df2.T\n",
    "    df1 = pd.DataFrame(list_rows)\n",
    "    df1=df1.T\n",
    "    df=pd.concat([df2, df1])\n",
    "    try:\n",
    "    # the code that can cause the error\n",
    "        new_header = df.iloc[0]\n",
    "    except IndexError: # catch the error\n",
    "        continue\n",
    "    df.columns = new_header\n",
    "    df= df[1:]\n",
    "    df = df.loc[:,~df.columns.duplicated()]\n",
    "    df['Link'] = url\n",
    "    \n",
    "        # store DataFrame in list\n",
    "    appended_data.append(df)\n",
    "        # see pd.concat documentation for more info\n",
    "appended_data = pd.concat(appended_data,axis=0, ignore_index=True)\n",
    "# Wait for 2 seconds\n",
    "time.sleep(2)\n",
    "  # Data is stored in CSV file   \n",
    "with open('C:\\\\Users\\\\gaura\\\\Desktop\\\\Project\\\\data.csv', 'a', encoding='utf-8') as f:\n",
    "    appended_data.to_csv(f, header=True)\n"
   ]
  },
  {
   "cell_type": "code",
   "execution_count": null,
   "metadata": {},
   "outputs": [],
   "source": []
  }
 ],
 "metadata": {
  "kernelspec": {
   "display_name": "Python 3",
   "language": "python",
   "name": "python3"
  },
  "language_info": {
   "codemirror_mode": {
    "name": "ipython",
    "version": 3
   },
   "file_extension": ".py",
   "mimetype": "text/x-python",
   "name": "python",
   "nbconvert_exporter": "python",
   "pygments_lexer": "ipython3",
   "version": "3.7.3"
  }
 },
 "nbformat": 4,
 "nbformat_minor": 2
}
